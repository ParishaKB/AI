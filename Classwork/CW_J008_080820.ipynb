{
  "nbformat": 4,
  "nbformat_minor": 0,
  "metadata": {
    "colab": {
      "name": "CW_J008_080820.ipynb",
      "provenance": [],
      "authorship_tag": "ABX9TyP+UymiAGVmgYywL647DAH7",
      "include_colab_link": true
    },
    "kernelspec": {
      "name": "python3",
      "display_name": "Python 3"
    }
  },
  "cells": [
    {
      "cell_type": "markdown",
      "metadata": {
        "id": "view-in-github",
        "colab_type": "text"
      },
      "source": [
        "<a href=\"https://colab.research.google.com/github/ParishaKB/AI/blob/master/Classwork/CW_J008_080820.ipynb\" target=\"_parent\"><img src=\"https://colab.research.google.com/assets/colab-badge.svg\" alt=\"Open In Colab\"/></a>"
      ]
    },
    {
      "cell_type": "markdown",
      "metadata": {
        "id": "FPWQ01fbCQhn",
        "colab_type": "text"
      },
      "source": [
        "PTIME - If n is the input size then, if complete computation can be done or expressed in a polynomial(algebraic expression with degree or highest power as a whole number).\n",
        "Time Complexity is O(n^K) where a polynomial of an^k+a1*n^k-1+... will be of order an^k"
      ]
    },
    {
      "cell_type": "markdown",
      "metadata": {
        "id": "0oe1HAhrCUf5",
        "colab_type": "text"
      },
      "source": [
        "n^(-1/3)-> 1/n^(1/3)\n",
        "\n",
        "n = 27 ; n = 216\n",
        "\n",
        "1/3    ;  1/6\n",
        "1/3    >  1/6\n",
        "\n",
        "Can time for computation decrease as inputs increase ?\n"
      ]
    },
    {
      "cell_type": "code",
      "metadata": {
        "id": "RQJqiYpgG6Iv",
        "colab_type": "code",
        "colab": {}
      },
      "source": [
        "def fact(n):\n",
        "  product = 1\n",
        "  for i in range (n):\n",
        "    product = product * (i+1)\n",
        "  return product"
      ],
      "execution_count": 1,
      "outputs": []
    },
    {
      "cell_type": "code",
      "metadata": {
        "id": "Po_ooWI7Eqf1",
        "colab_type": "code",
        "colab": {
          "base_uri": "https://localhost:8080/",
          "height": 50
        },
        "outputId": "ccc0bd4a-8f95-437e-ff86-1d61e5ace72f"
      },
      "source": [
        "%timeit (fact(5))"
      ],
      "execution_count": 2,
      "outputs": [
        {
          "output_type": "stream",
          "text": [
            "The slowest run took 4.12 times longer than the fastest. This could mean that an intermediate result is being cached.\n",
            "1000000 loops, best of 3: 551 ns per loop\n"
          ],
          "name": "stdout"
        }
      ]
    },
    {
      "cell_type": "code",
      "metadata": {
        "id": "gD9hV6c3HHm5",
        "colab_type": "code",
        "colab": {
          "base_uri": "https://localhost:8080/",
          "height": 34
        },
        "outputId": "d8759631-4c84-47b8-dd4c-c33f92180c50"
      },
      "source": [
        "%timeit (fact(50))"
      ],
      "execution_count": 3,
      "outputs": [
        {
          "output_type": "stream",
          "text": [
            "100000 loops, best of 3: 3.76 µs per loop\n"
          ],
          "name": "stdout"
        }
      ]
    },
    {
      "cell_type": "markdown",
      "metadata": {
        "id": "h7Aa7alFHVud",
        "colab_type": "text"
      },
      "source": [
        "50 takes more time than 5"
      ]
    },
    {
      "cell_type": "markdown",
      "metadata": {
        "id": "fuIlo6HPHX_1",
        "colab_type": "text"
      },
      "source": [
        "n^(-1/3) not feasible as input space"
      ]
    },
    {
      "cell_type": "code",
      "metadata": {
        "id": "bO6Sd63DHfuq",
        "colab_type": "code",
        "colab": {
          "base_uri": "https://localhost:8080/",
          "height": 34
        },
        "outputId": "fcf4b4d7-a328-4bea-c868-b796fc8e45cd"
      },
      "source": [
        "%timeit (fact(500))"
      ],
      "execution_count": 4,
      "outputs": [
        {
          "output_type": "stream",
          "text": [
            "10000 loops, best of 3: 77.1 µs per loop\n"
          ],
          "name": "stdout"
        }
      ]
    },
    {
      "cell_type": "code",
      "metadata": {
        "id": "51i73Cx3Hs8l",
        "colab_type": "code",
        "colab": {
          "base_uri": "https://localhost:8080/",
          "height": 34
        },
        "outputId": "0b286fd0-d472-4189-a9d2-fd1bd4c52af5"
      },
      "source": [
        "%timeit (fact(1000))"
      ],
      "execution_count": 5,
      "outputs": [
        {
          "output_type": "stream",
          "text": [
            "1000 loops, best of 3: 261 µs per loop\n"
          ],
          "name": "stdout"
        }
      ]
    },
    {
      "cell_type": "markdown",
      "metadata": {
        "id": "h9vayVueIKD7",
        "colab_type": "text"
      },
      "source": [
        "We see an increase in run time as n or the input increases\n"
      ]
    },
    {
      "cell_type": "markdown",
      "metadata": {
        "id": "vJ-J-8gWJH_b",
        "colab_type": "text"
      },
      "source": [
        "Non Linear Increase"
      ]
    },
    {
      "cell_type": "code",
      "metadata": {
        "id": "5bj-xAc7JLP5",
        "colab_type": "code",
        "colab": {}
      },
      "source": [
        "def sum(a,b):\n",
        "  return a+b"
      ],
      "execution_count": 6,
      "outputs": []
    },
    {
      "cell_type": "code",
      "metadata": {
        "id": "LIfkR1l1JV0F",
        "colab_type": "code",
        "colab": {
          "base_uri": "https://localhost:8080/",
          "height": 50
        },
        "outputId": "f69392e2-f57e-47c5-d2ea-21dd0559eb1e"
      },
      "source": [
        "%timeit sum(5,10)"
      ],
      "execution_count": 7,
      "outputs": [
        {
          "output_type": "stream",
          "text": [
            "The slowest run took 11.59 times longer than the fastest. This could mean that an intermediate result is being cached.\n",
            "10000000 loops, best of 3: 98.3 ns per loop\n"
          ],
          "name": "stdout"
        }
      ]
    },
    {
      "cell_type": "code",
      "metadata": {
        "id": "hUlFpO1_Jc7N",
        "colab_type": "code",
        "colab": {
          "base_uri": "https://localhost:8080/",
          "height": 50
        },
        "outputId": "ceae46ef-8e5e-4829-d714-75fa9aa9b1b4"
      },
      "source": [
        "%timeit sum(50,100)"
      ],
      "execution_count": 8,
      "outputs": [
        {
          "output_type": "stream",
          "text": [
            "The slowest run took 11.58 times longer than the fastest. This could mean that an intermediate result is being cached.\n",
            "10000000 loops, best of 3: 97.5 ns per loop\n"
          ],
          "name": "stdout"
        }
      ]
    },
    {
      "cell_type": "code",
      "metadata": {
        "id": "6-aOhmd5J3-Q",
        "colab_type": "code",
        "colab": {
          "base_uri": "https://localhost:8080/",
          "height": 50
        },
        "outputId": "53820c03-199c-4c78-dd6d-41badd65a113"
      },
      "source": [
        "%timeit sum(500,1000)"
      ],
      "execution_count": 9,
      "outputs": [
        {
          "output_type": "stream",
          "text": [
            "The slowest run took 12.21 times longer than the fastest. This could mean that an intermediate result is being cached.\n",
            "10000000 loops, best of 3: 107 ns per loop\n"
          ],
          "name": "stdout"
        }
      ]
    },
    {
      "cell_type": "code",
      "metadata": {
        "id": "FLTEKib6eiWh",
        "colab_type": "code",
        "colab": {
          "base_uri": "https://localhost:8080/",
          "height": 50
        },
        "outputId": "8b427430-720c-4509-baad-f0970085afc4"
      },
      "source": [
        "%timeit sum(5000,10000)"
      ],
      "execution_count": 10,
      "outputs": [
        {
          "output_type": "stream",
          "text": [
            "The slowest run took 12.27 times longer than the fastest. This could mean that an intermediate result is being cached.\n",
            "10000000 loops, best of 3: 108 ns per loop\n"
          ],
          "name": "stdout"
        }
      ]
    },
    {
      "cell_type": "markdown",
      "metadata": {
        "id": "1D9m_mN8ektN",
        "colab_type": "text"
      },
      "source": [
        "NP(Problem) - Solution is in non polynomial time\n",
        "\n",
        "P(Problem) - Max Solution time or Upper Bound is in Polynomial Time O(n^4) -> log n = [](is log n polynomial time or not ?)\n",
        "             (n*logn)\n",
        "              \n",
        "              log 50(base10) - 1.69 ()<n^1\n",
        "\n",
        "              log 500(base10) - 2.69 ()<n^1\n",
        "              \n",
        "              log 5000(base10) - 3.69 ()<n^1\n",
        "              \n",
        "              for non linear change in n , change is linear\n",
        "\n",
        "NP () - n!\n",
        "\n",
        "        5!   120 -> <5^3\n",
        "\n",
        "        50!  3.0414093e+64 microsecs -> days -> 3.5201497e+53 days\n",
        "\n",
        "        500! \n",
        "\n",
        "        5000!\n",
        "\n",
        "NP Complete - > All NP hard problems can be approximated to the problem then it is NP Complete. \n",
        "\n",
        "NP hard - > A problem is NP Hard if its solution is in NP, Cannot be verified in Polynomial Time\n",
        "            \n",
        "AI Complete or \n",
        "AI Hard Problems\n",
        "SAT - n-SAT (2-SAT)"
      ]
    },
    {
      "cell_type": "markdown",
      "metadata": {
        "id": "uBK0dQDnfE2p",
        "colab_type": "text"
      },
      "source": [
        "We see an increase in run time as n or the input increases"
      ]
    }
  ]
}