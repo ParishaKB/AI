{
  "nbformat": 4,
  "nbformat_minor": 0,
  "metadata": {
    "colab": {
      "name": "HW_J008_080820.ipynb",
      "provenance": [],
      "authorship_tag": "ABX9TyO7fDYBlp3bH6W2pmOyl88y",
      "include_colab_link": true
    },
    "kernelspec": {
      "name": "python3",
      "display_name": "Python 3"
    }
  },
  "cells": [
    {
      "cell_type": "markdown",
      "metadata": {
        "id": "view-in-github",
        "colab_type": "text"
      },
      "source": [
        "<a href=\"https://colab.research.google.com/github/ParishaKB/AI/blob/master/Homework/HW_J008_080820.ipynb\" target=\"_parent\"><img src=\"https://colab.research.google.com/assets/colab-badge.svg\" alt=\"Open In Colab\"/></a>"
      ]
    },
    {
      "cell_type": "markdown",
      "metadata": {
        "id": "pdttCdhY_qjz",
        "colab_type": "text"
      },
      "source": [
        "**A Knapsack Problem**"
      ]
    },
    {
      "cell_type": "code",
      "metadata": {
        "id": "2KPcCacjeNqM",
        "colab_type": "code",
        "colab": {}
      },
      "source": [
        "#import libraries\n",
        "import sys\n",
        "import heapq\n",
        "\n",
        "#function to initialise \n",
        "def solve(N,M,S,V,E) :\n",
        "\n",
        "    #store number of nodes passed to variable N in tuple T\n",
        "    T = tuple(set() for _ in range(N))\n",
        "    #add the connected nodes present in variable E to tuple T\n",
        "    for u,v in E :\n",
        "        T[u].add(v)\n",
        "        T[v].add(u)\n",
        "    # Store sum of values in the connected notes in the variable total   \n",
        "    Total = sum(V)\n",
        "    #Store the sorted array in variable order\n",
        "    order = sorted(range(n), reverse=True, key=(lambda i : V[i]/S[i]))\n",
        "    #Initialise maximum value as 0\n",
        "    maxValue = 0\n",
        "\n",
        "    #Define recursive function to get maximum value of cost of connected node values    \n",
        "    def getMax(visited, connected, rejected, size, value, rejectedValue, maxValue) :\n",
        "        #if value passed is greater than initialised value of maxvalue variable then update value of maxValue\n",
        "        if value > maxValue :\n",
        "            maxValue = value\n",
        "            \n",
        "        #if the passed nodes are not connected return same value of getMax without updation\n",
        "        if not connected :\n",
        "            return maxValue\n",
        "        \n",
        "        #Check all possible sum through various routes to get the maximum\n",
        "        i = getBest(connected)\n",
        "        if size + S[i] <= M :\n",
        "            maxValue = getMax(visited|{i}, (connected-{i}) | (T[i]-rejected-visited), rejected, size+S[i], value+V[i], rejectedValue, maxValue)\n",
        "            \n",
        "        if Total - (rejectedValue + V[i]) > maxValue :\n",
        "            maxValue = getMax(visited|{i}, connected-{i}, rejected | {i}, size, value, rejectedValue + V[i], maxValue)\n",
        "            \n",
        "        return maxValue\n",
        "\n",
        "    #to get best connected nodes\n",
        "    def getBest(connected) :\n",
        "        for i in order :\n",
        "            if i in connected :\n",
        "                return i\n",
        "            \n",
        "    for s in order :\n",
        "        maxValue = getMax(set(),{s},set(),0,0,0,maxValue)\n",
        "\n",
        "    return maxValue"
      ],
      "execution_count": 1,
      "outputs": []
    },
    {
      "cell_type": "code",
      "metadata": {
        "id": "057I1Ph1AYFF",
        "colab_type": "code",
        "colab": {
          "base_uri": "https://localhost:8080/",
          "height": 134
        },
        "outputId": "fa043a8b-e34d-4ae5-a1d9-00ca3befea7a"
      },
      "source": [
        "#driver code\n",
        "#take input for number of test cases\n",
        "T = int(input(\"Enter number of test cases: \"))\n",
        "#for each test case take new input using for loop\n",
        "for _ in range(T) :\n",
        "    #take input for number of nodes (n) and number of maximum nodes in knapsack (m)\n",
        "    n,m = (int(_) for _ in input(\"Enter number of nodes and knapsack size: \").split())\n",
        "    #take input of sizes of each node (s1,s2,s3..sn)\n",
        "    s = tuple(int(_) for _ in input(\"Enter size of each node: \").split())\n",
        "    #take input of values associated with each node (v1,v2,v3..vn)\n",
        "    v = tuple(int(_) for _ in input(\"Enter values for each node: \").split())\n",
        "    #take the input of the two nodes that are connected\n",
        "    e = tuple((int(_)-1 for _ in input(\"Which nodes are connected? \").split()) for _ in range(n-1))\n",
        "    print(\"Maximum cost: \",solve(n,m,s,v,e))"
      ],
      "execution_count": 2,
      "outputs": [
        {
          "output_type": "stream",
          "text": [
            "Enter number of test cases: 1\n",
            "Enter number of nodes and knapsack size: 3 1\n",
            "Enter size of each node: 1 1 1\n",
            "Enter values for each node: 1 2 3\n",
            "Which nodes are connected? 1 2\n",
            "Which nodes are connected? 1 3\n",
            "Maximum cost:  3\n"
          ],
          "name": "stdout"
        }
      ]
    }
  ]
}