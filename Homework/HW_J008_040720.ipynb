{
  "nbformat": 4,
  "nbformat_minor": 0,
  "metadata": {
    "colab": {
      "name": "HW_J008_040720",
      "provenance": [],
      "authorship_tag": "ABX9TyMtNc+PZJBVQJKtqiIt+eSQ",
      "include_colab_link": true
    },
    "kernelspec": {
      "name": "python3",
      "display_name": "Python 3"
    }
  },
  "cells": [
    {
      "cell_type": "markdown",
      "metadata": {
        "id": "view-in-github",
        "colab_type": "text"
      },
      "source": [
        "<a href=\"https://colab.research.google.com/github/ParishaKB/AI/blob/master/Homework/HW_J008_040720.ipynb\" target=\"_parent\"><img src=\"https://colab.research.google.com/assets/colab-badge.svg\" alt=\"Open In Colab\"/></a>"
      ]
    },
    {
      "cell_type": "markdown",
      "metadata": {
        "id": "SxJzWrosnFP3",
        "colab_type": "text"
      },
      "source": [
        "Hackerrank Problem 1\n",
        "Python If-Else"
      ]
    },
    {
      "cell_type": "code",
      "metadata": {
        "id": "mQkDbuLJm7b0",
        "colab_type": "code",
        "colab": {
          "base_uri": "https://localhost:8080/",
          "height": 50
        },
        "outputId": "ab605025-114b-4318-cde8-503fb5edf8e2"
      },
      "source": [
        "import math\n",
        "import os\n",
        "import random\n",
        "import re\n",
        "import sys\n",
        "\n",
        "\n",
        "n = int(input())\n",
        "if n % 2 == 1:\n",
        "    print(\"Weird\")\n",
        "elif n % 2 == 0 and 2 <= n <= 5:\n",
        "    print(\"Not Weird\")\n",
        "elif n % 2 == 0 and 6 <= n <= 20:\n",
        "    print(\"Weird\")\n",
        "else:\n",
        "    print(\"Not Weird\")\n"
      ],
      "execution_count": null,
      "outputs": [
        {
          "output_type": "stream",
          "text": [
            "15\n",
            "Weird\n"
          ],
          "name": "stdout"
        }
      ]
    },
    {
      "cell_type": "markdown",
      "metadata": {
        "id": "XGoRTCOrt5tX",
        "colab_type": "text"
      },
      "source": [
        "Hackerrank Problem 2\n",
        "Arithmetic Operators\n",
        "\n",
        "\n"
      ]
    },
    {
      "cell_type": "code",
      "metadata": {
        "id": "hxI262BzuM-W",
        "colab_type": "code",
        "colab": {
          "base_uri": "https://localhost:8080/",
          "height": 101
        },
        "outputId": "2c0fbe94-2224-48f7-b431-3855231099cf"
      },
      "source": [
        "if __name__ == '__main__':\n",
        "    a = int(input())\n",
        "    b = int(input())\n",
        "    print(a+b)\n",
        "    print(a-b)\n",
        "    print(a*b)"
      ],
      "execution_count": null,
      "outputs": [
        {
          "output_type": "stream",
          "text": [
            "3\n",
            "2\n",
            "5\n",
            "1\n",
            "6\n"
          ],
          "name": "stdout"
        }
      ]
    },
    {
      "cell_type": "markdown",
      "metadata": {
        "id": "E5lE4S7tugP5",
        "colab_type": "text"
      },
      "source": [
        "Hackerrank Problem 3 Python: Division"
      ]
    },
    {
      "cell_type": "code",
      "metadata": {
        "id": "sl_bm9OBul_i",
        "colab_type": "code",
        "colab": {
          "base_uri": "https://localhost:8080/",
          "height": 84
        },
        "outputId": "aa987b6a-de5b-470c-cd64-ca3b7a8932b0"
      },
      "source": [
        "if __name__ == '__main__':\n",
        "    a = int(input())\n",
        "    b = int(input())\n",
        "    print(a//b)\n",
        "    print(a/b)\n"
      ],
      "execution_count": null,
      "outputs": [
        {
          "output_type": "stream",
          "text": [
            "10\n",
            "3\n",
            "3\n",
            "3.3333333333333335\n"
          ],
          "name": "stdout"
        }
      ]
    },
    {
      "cell_type": "markdown",
      "metadata": {
        "id": "ObBci9_guxkR",
        "colab_type": "text"
      },
      "source": [
        "Hackerrank Proble 4 Loops"
      ]
    },
    {
      "cell_type": "code",
      "metadata": {
        "id": "kDTQHTPOu3zQ",
        "colab_type": "code",
        "colab": {
          "base_uri": "https://localhost:8080/",
          "height": 118
        },
        "outputId": "99c24e5b-870c-4e72-cfe0-085630f89eff"
      },
      "source": [
        "if __name__ == '__main__':\n",
        "    n = int(input())\n",
        "    for i in range(0,n):\n",
        "        print(i*i)\n"
      ],
      "execution_count": null,
      "outputs": [
        {
          "output_type": "stream",
          "text": [
            "5\n",
            "0\n",
            "1\n",
            "4\n",
            "9\n",
            "16\n"
          ],
          "name": "stdout"
        }
      ]
    },
    {
      "cell_type": "markdown",
      "metadata": {
        "id": "Z5336StPvGRy",
        "colab_type": "text"
      },
      "source": [
        "Hackerrank Problem 5 Print Function"
      ]
    },
    {
      "cell_type": "code",
      "metadata": {
        "id": "S9ajQO0jvOcn",
        "colab_type": "code",
        "colab": {
          "base_uri": "https://localhost:8080/",
          "height": 50
        },
        "outputId": "47386eae-c451-47ba-ff07-354e14b5afb9"
      },
      "source": [
        "if __name__ == '__main__':\n",
        "    n = int(input())\n",
        "for n in range(1,n+1):\n",
        "    print(n,end = '')"
      ],
      "execution_count": null,
      "outputs": [
        {
          "output_type": "stream",
          "text": [
            "10\n",
            "12345678910"
          ],
          "name": "stdout"
        }
      ]
    },
    {
      "cell_type": "markdown",
      "metadata": {
        "id": "nqx4JA-EvgkL",
        "colab_type": "text"
      },
      "source": [
        "Hackerrank Problem 6 List Comprehension"
      ]
    },
    {
      "cell_type": "code",
      "metadata": {
        "id": "UR-okqxzvlsi",
        "colab_type": "code",
        "colab": {
          "base_uri": "https://localhost:8080/",
          "height": 101
        },
        "outputId": "1364f959-ab43-4e52-9e9e-b43bf237c61d"
      },
      "source": [
        "if __name__ == '__main__':\n",
        "    x = int(input())\n",
        "    y = int(input())\n",
        "    z = int(input())\n",
        "    n = int(input())\n",
        "    list1 =[[i,j,k]for i in range(x+1) for j in range (y+1)for k in range (z+1)if i+j+k!=n]\n",
        "    print(list1)\n"
      ],
      "execution_count": null,
      "outputs": [
        {
          "output_type": "stream",
          "text": [
            "1\n",
            "1\n",
            "1\n",
            "2\n",
            "[[0, 0, 0], [0, 0, 1], [0, 1, 0], [1, 0, 0], [1, 1, 1]]\n"
          ],
          "name": "stdout"
        }
      ]
    }
  ]
}