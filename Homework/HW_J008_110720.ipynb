{
  "nbformat": 4,
  "nbformat_minor": 0,
  "metadata": {
    "colab": {
      "name": "HW_J008_110720.ipynb",
      "provenance": [],
      "authorship_tag": "ABX9TyO3v3bhmKrMmEMLPBJMpAA+",
      "include_colab_link": true
    },
    "kernelspec": {
      "name": "python3",
      "display_name": "Python 3"
    }
  },
  "cells": [
    {
      "cell_type": "markdown",
      "metadata": {
        "id": "view-in-github",
        "colab_type": "text"
      },
      "source": [
        "<a href=\"https://colab.research.google.com/github/ParishaKB/AI/blob/master/Homework/HW_J008_110720.ipynb\" target=\"_parent\"><img src=\"https://colab.research.google.com/assets/colab-badge.svg\" alt=\"Open In Colab\"/></a>"
      ]
    },
    {
      "cell_type": "markdown",
      "metadata": {
        "id": "QdoiRqFXjXq3",
        "colab_type": "text"
      },
      "source": [
        "1.Create a custom class DataRead to read csv file using pandas \n",
        "\n",
        "2.Create a custom function RowSelect within the class to select any 2 rows of the the the dataframe\n",
        "\n",
        "3.Create a sub class of DataRead1 as  DataRead2  that has function for correlation plots (using any lib for correlation plot)\n",
        "\n",
        "4.Within DataRead2 also create a function to override the custom function of DataRead1 RowSelect to select 3 rows"
      ]
    },
    {
      "cell_type": "code",
      "metadata": {
        "id": "jwaQVYBSihrr",
        "colab_type": "code",
        "colab": {}
      },
      "source": [
        "import pandas as pd\n",
        "import matplotlib.pylab as plt\n",
        "import numpy as np\n",
        "class DataRead :\n",
        "  def __init__ (self,filename):\n",
        "    self.dfile = pd.read_csv(filename)\n",
        "  def display_rows(self,n):\n",
        "    print (self.dfile.iloc[n])\n",
        "class DataRead2(DataRead):\n",
        "  def __init__ (self,filename):\n",
        "    DataRead.__init__(DataRead,filename)\n",
        "  def correlationplot (self):\n",
        "    df2 = self.dfile\n",
        "    corr= df2.corr()\n",
        "    fig = plt.figure()\n",
        "    ax = fig.add_subplot()\n",
        "    cax = ax.matshow(corr, cmap='coolwarm')\n",
        "    fig.colorbar(cax)\n",
        "    ticks = np.arange(0,len(corr.columns),1)\n",
        "    ax.set_xticks(ticks)\n",
        "    ax.set_yticks(ticks)\n",
        "    plt.xticks(rotation=90)\n",
        "    ax.set_xticklabels(corr.columns)\n",
        "    ax.set_yticklabels(corr.columns)\n",
        "    plt.show()\n",
        "  def display_rows(self,n):\n",
        "      print (self.dfile.iloc[n])\n",
        "    "
      ],
      "execution_count": 77,
      "outputs": []
    },
    {
      "cell_type": "code",
      "metadata": {
        "id": "S8TUa67dqEpi",
        "colab_type": "code",
        "colab": {
          "base_uri": "https://localhost:8080/",
          "height": 118
        },
        "outputId": "86b41ed8-65b4-4ad6-9242-4f7bfcab8433"
      },
      "source": [
        "filename = 'datasets_19_420_Iris.csv'\n",
        "datafile = DataRead(filename)\n",
        "print(datafile.dfile.head())"
      ],
      "execution_count": 72,
      "outputs": [
        {
          "output_type": "stream",
          "text": [
            "   Id  SepalLengthCm  SepalWidthCm  PetalLengthCm  PetalWidthCm      Species\n",
            "0   1            5.1           3.5            1.4           0.2  Iris-setosa\n",
            "1   2            4.9           3.0            1.4           0.2  Iris-setosa\n",
            "2   3            4.7           3.2            1.3           0.2  Iris-setosa\n",
            "3   4            4.6           3.1            1.5           0.2  Iris-setosa\n",
            "4   5            5.0           3.6            1.4           0.2  Iris-setosa\n"
          ],
          "name": "stdout"
        }
      ]
    },
    {
      "cell_type": "code",
      "metadata": {
        "id": "ZnMYzUo-t99m",
        "colab_type": "code",
        "colab": {
          "base_uri": "https://localhost:8080/",
          "height": 118
        },
        "outputId": "54931ac4-b959-4435-9965-51ac541c06bb"
      },
      "source": [
        "x = int(input())\n",
        "y = int(input())\n",
        "array = ([x],[y])\n",
        "for i in array:\n",
        "  datafile.display_rows(i)"
      ],
      "execution_count": 73,
      "outputs": [
        {
          "output_type": "stream",
          "text": [
            "0\n",
            "1\n",
            "   Id  SepalLengthCm  SepalWidthCm  PetalLengthCm  PetalWidthCm      Species\n",
            "0   1            5.1           3.5            1.4           0.2  Iris-setosa\n",
            "   Id  SepalLengthCm  SepalWidthCm  PetalLengthCm  PetalWidthCm      Species\n",
            "1   2            4.9           3.0            1.4           0.2  Iris-setosa\n"
          ],
          "name": "stdout"
        }
      ]
    },
    {
      "cell_type": "code",
      "metadata": {
        "id": "LuwGtdm1twK9",
        "colab_type": "code",
        "colab": {
          "base_uri": "https://localhost:8080/",
          "height": 337
        },
        "outputId": "907adc7a-e7a6-4095-e436-a1af3e0263f5"
      },
      "source": [
        "sub = DataRead2(filename)\n",
        "sub.correlationplot()\n"
      ],
      "execution_count": 82,
      "outputs": [
        {
          "output_type": "display_data",
          "data": {
            "image/png": "[encoded data removed]",
            "text/plain": [
              "<Figure size 432x288 with 2 Axes>"
            ]
          },
          "metadata": {
            "tags": [],
            "needs_background": "light"
          }
        }
      ]
    },
    {
      "cell_type": "code",
      "metadata": {
        "id": "C0ihHeJR6OrI",
        "colab_type": "code",
        "colab": {
          "base_uri": "https://localhost:8080/",
          "height": 168
        },
        "outputId": "0babfb35-d917-44b5-b887-c393ac4a8fc4"
      },
      "source": [
        "x = int(input())\n",
        "y = int(input())\n",
        "z = int(input())\n",
        "array = ([x],[y],[z])\n",
        "for i in array:\n",
        "  sub.display_rows(i)"
      ],
      "execution_count": 84,
      "outputs": [
        {
          "output_type": "stream",
          "text": [
            "0\n",
            "1\n",
            "2\n",
            "   Id  SepalLengthCm  SepalWidthCm  PetalLengthCm  PetalWidthCm      Species\n",
            "0   1            5.1           3.5            1.4           0.2  Iris-setosa\n",
            "   Id  SepalLengthCm  SepalWidthCm  PetalLengthCm  PetalWidthCm      Species\n",
            "1   2            4.9           3.0            1.4           0.2  Iris-setosa\n",
            "   Id  SepalLengthCm  SepalWidthCm  PetalLengthCm  PetalWidthCm      Species\n",
            "2   3            4.7           3.2            1.3           0.2  Iris-setosa\n"
          ],
          "name": "stdout"
        }
      ]
    }
  ]
}