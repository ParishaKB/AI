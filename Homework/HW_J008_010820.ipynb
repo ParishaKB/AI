{
  "nbformat": 4,
  "nbformat_minor": 0,
  "metadata": {
    "colab": {
      "name": "HW_J008_010820.ipynb",
      "provenance": [],
      "authorship_tag": "ABX9TyMDnSjJgLsHascWCPQVj22p",
      "include_colab_link": true
    },
    "kernelspec": {
      "name": "python3",
      "display_name": "Python 3"
    }
  },
  "cells": [
    {
      "cell_type": "markdown",
      "metadata": {
        "id": "view-in-github",
        "colab_type": "text"
      },
      "source": [
        "<a href=\"https://colab.research.google.com/github/ParishaKB/AI/blob/master/Homework/HW_J008_010820.ipynb\" target=\"_parent\"><img src=\"https://colab.research.google.com/assets/colab-badge.svg\" alt=\"Open In Colab\"/></a>"
      ]
    },
    {
      "cell_type": "markdown",
      "metadata": {
        "id": "FJCHqe0DmI28",
        "colab_type": "text"
      },
      "source": [
        "**Validating Postal Codes**\n",
        "\n",
        "A valid postal code  have to P fullfil both below requirements:\n",
        "\n",
        "P must be a number in the range 100000 from 999999  to inclusive.\n",
        "P must not contain more than one alternating repetitive digit pair.\n",
        "Alternating repetitive digits are digits which repeat immediately after the next digit. In other words, an alternating repetitive digit pair is formed by two equal digits that have just a single digit between them."
      ]
    },
    {
      "cell_type": "code",
      "metadata": {
        "id": "T4OxRDJ9loDZ",
        "colab_type": "code",
        "colab": {
          "base_uri": "https://localhost:8080/",
          "height": 50
        },
        "outputId": "df08f959-cb1d-4018-ad96-72587e7da77e"
      },
      "source": [
        "regex_integer_in_range = r'^[1-9][\\d]{5}$'\n",
        "regex_alternating_repetitive_digit_pair = r'(\\d)(?=\\d\\1)'\t\n",
        "\n",
        "\n",
        "import re\n",
        "P = input()\n",
        "\n",
        "print (bool(re.match(regex_integer_in_range, P)) \n",
        "and len(re.findall(regex_alternating_repetitive_digit_pair, P)) < 2)"
      ],
      "execution_count": null,
      "outputs": [
        {
          "output_type": "stream",
          "text": [
            "110000\n",
            "False\n"
          ],
          "name": "stdout"
        }
      ]
    },
    {
      "cell_type": "markdown",
      "metadata": {
        "id": "390xfljYWhnq",
        "colab_type": "text"
      },
      "source": [
        "^ : Matches the start of the string with integers between [1-9] to ensure the range condition\n",
        "\n",
        "[\\d] : matches the next digits with numbers between 0-9\n",
        "\n",
        "{5} : matches 5 digits with above condition\n",
        "\n",
        "$ : Matches only for end of line or the last 5 digits\n",
        "\n",
        "(\\d) : Group of numbers to match to digits between 0-9\n",
        "\n",
        "(?= \\d\\1) : Matches the content of the group '\\d\\1' with the group before (1) that is the alternating group "
      ]
    },
    {
      "cell_type": "markdown",
      "metadata": {
        "id": "Sx_eCkinsE6l",
        "colab_type": "text"
      },
      "source": [
        "**The Coin Change Problem**\n",
        "\n",
        "You are working at the cash counter at a fun-fair, and you have different types of coins available to you in infinite quantities. The value of each coin is already given. Can you determine the number of ways of making change for a particular number of units using the given types of coins?"
      ]
    },
    {
      "cell_type": "code",
      "metadata": {
        "id": "SBtzEj8CsNkf",
        "colab_type": "code",
        "colab": {
          "base_uri": "https://localhost:8080/",
          "height": 67
        },
        "outputId": "7e01cace-14ac-4aeb-eb9f-899b6d9f8cc6"
      },
      "source": [
        "n,m = list(map(int,input().strip().split(' ')))\n",
        "c = list(map(int,input().strip().split(' ')))\n",
        "\n",
        "def count_make_change_bottom_up(n, c,m):\n",
        "    counts = [0] * (n+1)\n",
        "    counts[0] = 1\n",
        "    for i in range(0, m):\n",
        "        sum = 0\n",
        "        for j in range(c[i],n+1):\n",
        "            counts[j] += counts[j-c[i]]\n",
        "    return counts[n]\n",
        "\n",
        "\n",
        "print(count_make_change_bottom_up(n,c,m))"
      ],
      "execution_count": 1,
      "outputs": [
        {
          "output_type": "stream",
          "text": [
            "4 3\n",
            "1 2 3\n",
            "4\n"
          ],
          "name": "stdout"
        }
      ]
    },
    {
      "cell_type": "markdown",
      "metadata": {
        "id": "7WQc0w5iwpaH",
        "colab_type": "text"
      },
      "source": [
        "Initate array of size n+1 where n is the total sum of change \n",
        "\n",
        "Initate all values as 0 except first element, first element is initiated as 1\n",
        "\n",
        "Run a for loop from 0 to number of units given by user\n",
        "\n",
        "Initialize variable to store sum\n",
        "\n",
        "Inside another loop from current value of coin to sum of change +1 , update value of count array "
      ]
    },
    {
      "cell_type": "markdown",
      "metadata": {
        "id": "qGCTjBCUuTbA",
        "colab_type": "text"
      },
      "source": [
        "**Sherlock and Cost**\n",
        "\n",
        "In this challenge, you will be given an array  and must determine an array . There is a special rule: For all , . That is,  can be any number you choose such that . Your task is to select a series of  given  such that the sum of the absolute difference of consecutive pairs of  is maximized. This will be the array's cost, and will be represented by the variable  below."
      ]
    },
    {
      "cell_type": "code",
      "metadata": {
        "id": "rToplYBwuaNI",
        "colab_type": "code",
        "colab": {
          "base_uri": "https://localhost:8080/",
          "height": 84
        },
        "outputId": "4ccb2292-e36b-4149-921d-0a2da3de36b3"
      },
      "source": [
        "import math\n",
        "import os\n",
        "import random\n",
        "import re\n",
        "import sys\n",
        "def cost(B):\n",
        "    if len(B) == 1:\n",
        "        return 0\n",
        "    m = [[float('-inf')]*2 for i in range(len(B))]\n",
        "    for i in range(1, len(B)):\n",
        "        for j0 in [1, B[i-1]]:\n",
        "            for j1 in [1, B[i]]:\n",
        "                a_i = 0 if j1 == 1 else 1\n",
        "                b_i = 0 if j0 == 1 else 1\n",
        "                m[i][a_i] = max(m[i][a_i], abs(j1 - j0) + (m[i-1][b_i] if i > 1 else 0))\n",
        "\n",
        "    return max(m[len(B) - 1])\n",
        "\n",
        "t = int(input())\n",
        "for t_itr in range(t):\n",
        "  n = int(input())\n",
        "  B = list(map(int, input().rstrip().split()))\n",
        "result = cost(B)\n",
        "print(result)"
      ],
      "execution_count": null,
      "outputs": [
        {
          "output_type": "stream",
          "text": [
            "1\n",
            "5\n",
            "100 2 100 2 100\n",
            "396\n"
          ],
          "name": "stdout"
        }
      ]
    },
    {
      "cell_type": "markdown",
      "metadata": {
        "id": "0mH3KZbU9xb7",
        "colab_type": "text"
      },
      "source": [
        "Start with  each element of A[i] is 1 or B[i]. Now, fill a table L of size n x 2, where L[i][0] corresponds to max S up to A[i] such that A[i]=1, and L[i][1] corresponds to max S up to A[i] such that A[i]=B[i]. It's easy to derive L[i]'s from L[i-1]'s."
      ]
    }
  ]
}