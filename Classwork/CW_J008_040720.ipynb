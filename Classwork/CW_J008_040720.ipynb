{
  "nbformat": 4,
  "nbformat_minor": 0,
  "metadata": {
    "colab": {
      "name": "CW_J008_040720",
      "provenance": [],
      "authorship_tag": "ABX9TyMWWaKNU3BW/YTkO0I1hONN",
      "include_colab_link": true
    },
    "kernelspec": {
      "name": "python3",
      "display_name": "Python 3"
    }
  },
  "cells": [
    {
      "cell_type": "markdown",
      "metadata": {
        "id": "view-in-github",
        "colab_type": "text"
      },
      "source": [
        "<a href=\"https://colab.research.google.com/github/ParishaKB/AI/blob/master/Classwork/CW_J008_040720.ipynb\" target=\"_parent\"><img src=\"https://colab.research.google.com/assets/colab-badge.svg\" alt=\"Open In Colab\"/></a>"
      ]
    },
    {
      "cell_type": "markdown",
      "metadata": {
        "id": "3JJDu9HPQIMC",
        "colab_type": "text"
      },
      "source": [
        "Data Types"
      ]
    },
    {
      "cell_type": "code",
      "metadata": {
        "id": "me6P5J8qGvoS",
        "colab_type": "code",
        "colab": {
          "base_uri": "https://localhost:8080/",
          "height": 67
        },
        "outputId": "a8cf5a63-3c09-4c4a-dc7b-fa09dcea28d5"
      },
      "source": [
        "#list\n",
        "lt = [1,2,3,4,5,'human']\n",
        "lt\n",
        "#tuple\n",
        "tp = (1,2,3,4,5,'human')\n",
        "type(tp)\n",
        "#set\n",
        "set1 = {1,2,3,4,5,'human'}\n",
        "type(set1)\n",
        "#dictonary \n",
        "dic = {'key':[1,2,3,4,5,'human'],'tuple':(1,2,3,4,5,'human'),'set':{1,2,3,4,5,'huma'}}\n",
        "dic"
      ],
      "execution_count": null,
      "outputs": [
        {
          "output_type": "execute_result",
          "data": {
            "text/plain": [
              "{'key': [1, 2, 3, 4, 5, 'human'],\n",
              " 'set': {1, 2, 3, 4, 5, 'huma'},\n",
              " 'tuple': (1, 2, 3, 4, 5, 'human')}"
            ]
          },
          "metadata": {
            "tags": []
          },
          "execution_count": 16
        }
      ]
    },
    {
      "cell_type": "markdown",
      "metadata": {
        "id": "_RJ3oc_qQPIR",
        "colab_type": "text"
      },
      "source": [
        "Properties of Set"
      ]
    },
    {
      "cell_type": "code",
      "metadata": {
        "id": "vnb2j7tLJ_Dp",
        "colab_type": "code",
        "colab": {
          "base_uri": "https://localhost:8080/",
          "height": 212
        },
        "outputId": "cd3bf35d-62d0-4394-b24b-fd0a8729fd22"
      },
      "source": [
        "#Properties of Sets\n",
        "#there cannot be a set of lists\n",
        "setlist = {[1,2],[2,3]}\n",
        "#there cannot be a set of sets\n",
        "setset = {{1,2},{3,4}}\n",
        "#Set can have different Datatypes\n",
        "setdiff = {1,2,'a'}\n",
        "# set cannot have duplicates\n",
        "dupset = {7,8,9,6,5,4,4,5,6}\n",
        "# set cannot have mutable items\n",
        "mut_set = {1, 2, [3, 4]}\n",
        "#sets dont support indexing\n",
        "#order in which elements are added is irrelevant\n",
        "setlist[0]\n",
        "#checking if an element is present in a set\n",
        "b ={1,2,3,4,5}\n",
        "9 in b\n",
        "2 in b\n",
        "des = {9,8,7,6,45,4}\n",
        "des.pop()"
      ],
      "execution_count": null,
      "outputs": [
        {
          "output_type": "error",
          "ename": "TypeError",
          "evalue": "ignored",
          "traceback": [
            "\u001b[0;31m---------------------------------------------------------------------------\u001b[0m",
            "\u001b[0;31mTypeError\u001b[0m                                 Traceback (most recent call last)",
            "\u001b[0;32m<ipython-input-20-45a52ffec6fc>\u001b[0m in \u001b[0;36m<module>\u001b[0;34m()\u001b[0m\n\u001b[1;32m      3\u001b[0m \u001b[0;31m#setlist = {[1,2],[2,3]}\u001b[0m\u001b[0;34m\u001b[0m\u001b[0;34m\u001b[0m\u001b[0;34m\u001b[0m\u001b[0m\n\u001b[1;32m      4\u001b[0m \u001b[0;31m#there cannot be a set of sets\u001b[0m\u001b[0;34m\u001b[0m\u001b[0;34m\u001b[0m\u001b[0;34m\u001b[0m\u001b[0m\n\u001b[0;32m----> 5\u001b[0;31m \u001b[0msetset\u001b[0m \u001b[0;34m=\u001b[0m \u001b[0;34m{\u001b[0m\u001b[0;34m{\u001b[0m\u001b[0;36m1\u001b[0m\u001b[0;34m,\u001b[0m\u001b[0;36m2\u001b[0m\u001b[0;34m}\u001b[0m\u001b[0;34m,\u001b[0m\u001b[0;34m{\u001b[0m\u001b[0;36m3\u001b[0m\u001b[0;34m,\u001b[0m\u001b[0;36m4\u001b[0m\u001b[0;34m}\u001b[0m\u001b[0;34m}\u001b[0m\u001b[0;34m\u001b[0m\u001b[0;34m\u001b[0m\u001b[0m\n\u001b[0m\u001b[1;32m      6\u001b[0m \u001b[0;31m#\u001b[0m\u001b[0;34m\u001b[0m\u001b[0;34m\u001b[0m\u001b[0;34m\u001b[0m\u001b[0m\n",
            "\u001b[0;31mTypeError\u001b[0m: unhashable type: 'set'"
          ]
        }
      ]
    },
    {
      "cell_type": "markdown",
      "metadata": {
        "id": "GS-skmoDdnmE",
        "colab_type": "text"
      },
      "source": [
        "Properties of Tuples"
      ]
    },
    {
      "cell_type": "code",
      "metadata": {
        "id": "cfNusMD8MPiL",
        "colab_type": "code",
        "colab": {
          "base_uri": "https://localhost:8080/",
          "height": 34
        },
        "outputId": "7a99b654-2465-4799-8ad8-5a38bb575000"
      },
      "source": [
        "#tuples can be accessed using index\n",
        "#tuples are immutable\n",
        "t1 = (1,2,3,4) \n",
        "t1[0] = 4\n",
        "#tuple values can be repeated \n",
        "tp = (1,1,1,2,2,3,5)\n",
        "#tuple can contain tuples\n",
        "t1 = (1,2,3) \n",
        "t2 = ('a','b','c') \n",
        "t3 = t1+t2"
      ],
      "execution_count": null,
      "outputs": [
        {
          "output_type": "execute_result",
          "data": {
            "text/plain": [
              "tuple"
            ]
          },
          "metadata": {
            "tags": []
          },
          "execution_count": 33
        }
      ]
    },
    {
      "cell_type": "markdown",
      "metadata": {
        "id": "n6g1_mDNdtMF",
        "colab_type": "text"
      },
      "source": [
        "Properties of Lists "
      ]
    },
    {
      "cell_type": "code",
      "metadata": {
        "id": "vvy_UZiNN1bb",
        "colab_type": "code",
        "colab": {
          "base_uri": "https://localhost:8080/",
          "height": 34
        },
        "outputId": "8c4f55d0-9830-4302-bbba-5b10c8580fb8"
      },
      "source": [
        "#list elements are accessed using index\n",
        "l1 = [1,2,3,4]\n",
        "l1[-1]\n",
        "#lists are mutable\n",
        "l1[0]=11\n",
        "l1\n",
        "listlist = [1,2,3,[4,5]]\n",
        "listlist[3]"
      ],
      "execution_count": null,
      "outputs": [
        {
          "output_type": "execute_result",
          "data": {
            "text/plain": [
              "[4, 5]"
            ]
          },
          "metadata": {
            "tags": []
          },
          "execution_count": 41
        }
      ]
    }
  ]
}