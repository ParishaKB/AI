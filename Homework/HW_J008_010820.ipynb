{
  "nbformat": 4,
  "nbformat_minor": 0,
  "metadata": {
    "colab": {
      "name": "HW_J008_010820.ipynb",
      "provenance": [],
      "authorship_tag": "ABX9TyPT7epg9DwpIa5QeE1Rd2cp",
      "include_colab_link": true
    },
    "kernelspec": {
      "name": "python3",
      "display_name": "Python 3"
    }
  },
  "cells": [
    {
      "cell_type": "markdown",
      "metadata": {
        "id": "view-in-github",
        "colab_type": "text"
      },
      "source": [
        "<a href=\"https://colab.research.google.com/github/ParishaKB/AI/blob/master/Homework/HW_J008_010820.ipynb\" target=\"_parent\"><img src=\"https://colab.research.google.com/assets/colab-badge.svg\" alt=\"Open In Colab\"/></a>"
      ]
    },
    {
      "cell_type": "markdown",
      "metadata": {
        "id": "FJCHqe0DmI28",
        "colab_type": "text"
      },
      "source": [
        "Validating Postal Codes\n",
        "\n",
        "A valid postal code  have to P fullfil both below requirements:\n",
        "\n",
        "P must be a number in the range 100000 from 999999  to inclusive.\n",
        "P must not contain more than one alternating repetitive digit pair.\n",
        "Alternating repetitive digits are digits which repeat immediately after the next digit. In other words, an alternating repetitive digit pair is formed by two equal digits that have just a single digit between them."
      ]
    },
    {
      "cell_type": "code",
      "metadata": {
        "id": "T4OxRDJ9loDZ",
        "colab_type": "code",
        "colab": {
          "base_uri": "https://localhost:8080/",
          "height": 50
        },
        "outputId": "df08f959-cb1d-4018-ad96-72587e7da77e"
      },
      "source": [
        "regex_integer_in_range = r'^[1-9][\\d]{5}$'\n",
        "regex_alternating_repetitive_digit_pair = r'(\\d)(?=\\d\\1)'\t\n",
        "\n",
        "\n",
        "import re\n",
        "P = input()\n",
        "\n",
        "print (bool(re.match(regex_integer_in_range, P)) \n",
        "and len(re.findall(regex_alternating_repetitive_digit_pair, P)) < 2)"
      ],
      "execution_count": 11,
      "outputs": [
        {
          "output_type": "stream",
          "text": [
            "110000\n",
            "False\n"
          ],
          "name": "stdout"
        }
      ]
    },
    {
      "cell_type": "markdown",
      "metadata": {
        "id": "Sx_eCkinsE6l",
        "colab_type": "text"
      },
      "source": [
        "The Coin Change Problem\n",
        "\n",
        "You are working at the cash counter at a fun-fair, and you have different types of coins available to you in infinite quantities. The value of each coin is already given. Can you determine the number of ways of making change for a particular number of units using the given types of coins?\n",
        "\n",
        "For example, if you have  types of coins, and the value of each type is given as  respectively, you can make change for  units in three ways: , , and .\n",
        "\n",
        "Function Description\n",
        "\n",
        "Complete the getWays function in the editor below. It must return an integer denoting the number of ways to make change.\n",
        "\n",
        "getWays has the following parameter(s):\n",
        "\n",
        "n: an integer, the amount to make change for\n",
        "c: an array of integers representing available denominations"
      ]
    },
    {
      "cell_type": "code",
      "metadata": {
        "id": "SBtzEj8CsNkf",
        "colab_type": "code",
        "colab": {
          "base_uri": "https://localhost:8080/",
          "height": 67
        },
        "outputId": "0832bbc0-d487-4c27-f2f0-19367c82bdd1"
      },
      "source": [
        "n,m = list(map(int,input().strip().split(' ')))\n",
        "c = list(map(int,input().strip().split(' ')))\n",
        "\n",
        "count = 0\n",
        "def count_make_change_recur(n, c, m):\n",
        "    if n < 0:\n",
        "        return 0\n",
        "    if n == 0:\n",
        "        return 1\n",
        "    if n <= 0:\n",
        "        return 0\n",
        "    return count_make_change(n-c[m-1], c, m) + count_make_change(n,c,m)\n",
        "\n",
        "\n",
        "def count_make_change_bottom_up(n, c,m):\n",
        "    counts = [0] * (n+1)\n",
        "    counts[0] = 1\n",
        "    for i in range(0, m):\n",
        "        sum = 0\n",
        "        for j in range(c[i],n+1):\n",
        "            counts[j] += counts[j-c[i]]\n",
        "    return counts[n]\n",
        "\n",
        "\n",
        "print(count_make_change_bottom_up(n,c,m))"
      ],
      "execution_count": 1,
      "outputs": [
        {
          "output_type": "stream",
          "text": [
            "4 3\n",
            "1 2 3\n",
            "4\n"
          ],
          "name": "stdout"
        }
      ]
    },
    {
      "cell_type": "markdown",
      "metadata": {
        "id": "qGCTjBCUuTbA",
        "colab_type": "text"
      },
      "source": [
        "Sherlock and Cost\n",
        "\n",
        "In this challenge, you will be given an array  and must determine an array . There is a special rule: For all , . That is,  can be any number you choose such that . Your task is to select a series of  given  such that the sum of the absolute difference of consecutive pairs of  is maximized. This will be the array's cost, and will be represented by the variable  below."
      ]
    },
    {
      "cell_type": "code",
      "metadata": {
        "id": "rToplYBwuaNI",
        "colab_type": "code",
        "colab": {
          "base_uri": "https://localhost:8080/",
          "height": 84
        },
        "outputId": "4ccb2292-e36b-4149-921d-0a2da3de36b3"
      },
      "source": [
        "import math\n",
        "import os\n",
        "import random\n",
        "import re\n",
        "import sys\n",
        "def cost(B):\n",
        "    if len(B) == 1:\n",
        "        return 0\n",
        "    m = [[float('-inf')]*2 for i in range(len(B))]\n",
        "    for i in range(1, len(B)):\n",
        "        for j0 in [1, B[i-1]]:\n",
        "            for j1 in [1, B[i]]:\n",
        "                a_i = 0 if j1 == 1 else 1\n",
        "                b_i = 0 if j0 == 1 else 1\n",
        "                m[i][a_i] = max(m[i][a_i], abs(j1 - j0) + (m[i-1][b_i] if i > 1 else 0))\n",
        "\n",
        "    return max(m[len(B) - 1])\n",
        "\n",
        "t = int(input())\n",
        "for t_itr in range(t):\n",
        "  n = int(input())\n",
        "  B = list(map(int, input().rstrip().split()))\n",
        "result = cost(B)\n",
        "print(result)"
      ],
      "execution_count": 7,
      "outputs": [
        {
          "output_type": "stream",
          "text": [
            "1\n",
            "5\n",
            "100 2 100 2 100\n",
            "396\n"
          ],
          "name": "stdout"
        }
      ]
    },
    {
      "cell_type": "code",
      "metadata": {
        "id": "6pNtOMNu0gao",
        "colab_type": "code",
        "colab": {}
      },
      "source": [
        ""
      ],
      "execution_count": null,
      "outputs": []
    }
  ]
}